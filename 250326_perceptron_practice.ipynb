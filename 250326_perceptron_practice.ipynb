{
  "cells": [
    {
      "cell_type": "markdown",
      "metadata": {
        "id": "view-in-github",
        "colab_type": "text"
      },
      "source": [
        "<a href=\"https://colab.research.google.com/github/rms5010/deep-learning-practice/blob/main/250326_perceptron_practice.ipynb\" target=\"_parent\"><img src=\"https://colab.research.google.com/assets/colab-badge.svg\" alt=\"Open In Colab\"/></a>"
      ]
    },
    {
      "cell_type": "code",
      "execution_count": 12,
      "metadata": {
        "id": "4IvVkQVV-bR5"
      },
      "outputs": [],
      "source": [
        "import numpy as np"
      ]
    },
    {
      "cell_type": "code",
      "execution_count": 13,
      "metadata": {
        "id": "g22UduqZ-bR6"
      },
      "outputs": [],
      "source": [
        "# AND 데이터셋 정의\n",
        "AND_X = np.array([[0, 0], [0, 1], [1, 0], [1, 1]])  # 입력값\n",
        "AND_y = np.array([0, 0, 0, 1])  # AND 출력값\n",
        "\n",
        "# OR 데이터셋 정의\n",
        "OR_X = np.array([[0, 0], [0, 1], [1, 0], [1, 1]])  # 입력값\n",
        "OR_y = np.array([0, 1, 1, 1])  # OR 출력값\n",
        "\n",
        "# XOR 데이터셋 정의\n",
        "XOR_X = np.array([[0, 0], [0, 1], [1, 0], [1, 1]])  # 입력값\n",
        "XOR_y = np.array([0, 1, 1, 0])  # XOR 출력값"
      ]
    },
    {
      "cell_type": "code",
      "execution_count": 14,
      "metadata": {
        "id": "uso-thK8-bR6"
      },
      "outputs": [],
      "source": [
        "# 퍼셉트론 모델 정의\n",
        "class Perceptron:\n",
        "    def __init__(self, input_size, lr=0.1, epochs=10): # 입력 사이즈, 에포크 수\n",
        "        self.weights = np.zeros(input_size + 1)  # 가중치 초기화 (bias 포함)\n",
        "        self.lr = lr  # 학습률\n",
        "        self.epochs = epochs  # 학습 반복 횟수\n",
        "\n",
        "    def activation(self, x): # 활성화 함수\n",
        "        return 1 if x >= 0 else 0  # 단위 계단 함수\n",
        "\n",
        "    def predict(self, x): # 예측 함수\n",
        "        z = np.dot(x, self.weights[1:]) + self.weights[0]  # 가중치와 입력값 계산\n",
        "        return self.activation(z) # 활성화 함수 적용\n",
        "\n",
        "    def fit(self, X, y): # 학습 함수\n",
        "        for epoch in range(self.epochs):\n",
        "            for i in range(X.shape[0]):\n",
        "                x_i = X[i]\n",
        "                y_pred = self.predict(x_i)\n",
        "                error = y[i] - y_pred\n",
        "\n",
        "                # 가중치 업데이트\n",
        "                self.weights[1:] += self.lr * error * x_i\n",
        "                self.weights[0] += self.lr * error  # bias 업데이트\n",
        "\n",
        "            # 학습 과정 출력\n",
        "            print(f\"Epoch {epoch + 1}/{self.epochs}, Weights: {self.weights}\")"
      ]
    },
    {
      "cell_type": "markdown",
      "metadata": {
        "id": "n1m2h47q-bR7"
      },
      "source": [
        "# AND 데이터 학습"
      ]
    },
    {
      "cell_type": "code",
      "execution_count": 15,
      "metadata": {
        "colab": {
          "base_uri": "https://localhost:8080/"
        },
        "id": "csgsRAED-bR8",
        "outputId": "ff268ae0-4c04-4f3f-bea5-c9a2158a0f79"
      },
      "outputs": [
        {
          "output_type": "stream",
          "name": "stdout",
          "text": [
            "Epoch 1/10, Weights: [0.  0.1 0.1]\n",
            "Epoch 2/10, Weights: [-0.1  0.2  0.1]\n",
            "Epoch 3/10, Weights: [-0.2  0.2  0.1]\n",
            "Epoch 4/10, Weights: [-0.2  0.2  0.1]\n",
            "Epoch 5/10, Weights: [-0.2  0.2  0.1]\n",
            "Epoch 6/10, Weights: [-0.2  0.2  0.1]\n",
            "Epoch 7/10, Weights: [-0.2  0.2  0.1]\n",
            "Epoch 8/10, Weights: [-0.2  0.2  0.1]\n",
            "Epoch 9/10, Weights: [-0.2  0.2  0.1]\n",
            "Epoch 10/10, Weights: [-0.2  0.2  0.1]\n"
          ]
        }
      ],
      "source": [
        "# 퍼셉트론 학습(AND 데이터)\n",
        "perceptron = Perceptron(input_size=2, lr=0.1, epochs=10)\n",
        "perceptron.fit(AND_X, AND_y)"
      ]
    },
    {
      "cell_type": "code",
      "execution_count": 16,
      "metadata": {
        "colab": {
          "base_uri": "https://localhost:8080/"
        },
        "id": "I0dNGlbQ-bR9",
        "outputId": "6d997521-d7ac-452f-d379-30b47dc76871"
      },
      "outputs": [
        {
          "output_type": "stream",
          "name": "stdout",
          "text": [
            "Input: [0 0], Predicted: 0, Target: 0\n",
            "Input: [0 1], Predicted: 0, Target: 0\n",
            "Input: [1 0], Predicted: 0, Target: 0\n",
            "Input: [1 1], Predicted: 1, Target: 1\n"
          ]
        }
      ],
      "source": [
        "# AND 테스트(문제x)\n",
        "for x, target in zip(AND_X, AND_y):\n",
        "    pred = perceptron.predict(x)\n",
        "    print(f\"Input: {x}, Predicted: {pred}, Target: {target}\")"
      ]
    },
    {
      "cell_type": "markdown",
      "metadata": {
        "id": "o3bigTot-bR9"
      },
      "source": [
        "# OR 데이터 학습"
      ]
    },
    {
      "cell_type": "code",
      "execution_count": 17,
      "metadata": {
        "colab": {
          "base_uri": "https://localhost:8080/"
        },
        "id": "uQclOUvM-bR9",
        "outputId": "b8d032c1-e945-43e8-970e-1ed35ca8992c"
      },
      "outputs": [
        {
          "output_type": "stream",
          "name": "stdout",
          "text": [
            "Epoch 1/10, Weights: [0.  0.  0.1]\n",
            "Epoch 2/10, Weights: [0.  0.1 0.1]\n",
            "Epoch 3/10, Weights: [-0.1  0.1  0.1]\n",
            "Epoch 4/10, Weights: [-0.1  0.1  0.1]\n",
            "Epoch 5/10, Weights: [-0.1  0.1  0.1]\n",
            "Epoch 6/10, Weights: [-0.1  0.1  0.1]\n",
            "Epoch 7/10, Weights: [-0.1  0.1  0.1]\n",
            "Epoch 8/10, Weights: [-0.1  0.1  0.1]\n",
            "Epoch 9/10, Weights: [-0.1  0.1  0.1]\n",
            "Epoch 10/10, Weights: [-0.1  0.1  0.1]\n"
          ]
        }
      ],
      "source": [
        "# 퍼셉트론 학습(OR 데이터)\n",
        "perceptron = Perceptron(input_size=2, lr=0.1, epochs=10)\n",
        "perceptron.fit(OR_X, OR_y)"
      ]
    },
    {
      "cell_type": "code",
      "execution_count": 18,
      "metadata": {
        "colab": {
          "base_uri": "https://localhost:8080/"
        },
        "id": "aa3durbc-bR-",
        "outputId": "58809942-b5f1-4ecb-cd68-839f980bd21a"
      },
      "outputs": [
        {
          "output_type": "stream",
          "name": "stdout",
          "text": [
            "Input: [0 0], Predicted: 0, Target: 0\n",
            "Input: [0 1], Predicted: 1, Target: 1\n",
            "Input: [1 0], Predicted: 1, Target: 1\n",
            "Input: [1 1], Predicted: 1, Target: 1\n"
          ]
        }
      ],
      "source": [
        "# OR 테스트(쿤제x)\n",
        "for x, target in zip(OR_X, OR_y):\n",
        "    pred = perceptron.predict(x)\n",
        "    print(f\"Input: {x}, Predicted: {pred}, Target: {target}\")"
      ]
    },
    {
      "cell_type": "markdown",
      "metadata": {
        "id": "6Wq9wcv4-bR-"
      },
      "source": [
        "# XOR 데이터 학습"
      ]
    },
    {
      "cell_type": "code",
      "execution_count": 19,
      "metadata": {
        "colab": {
          "base_uri": "https://localhost:8080/"
        },
        "id": "tfCmcViK-bR-",
        "outputId": "8008d718-2492-49e4-8bfb-dafb609de67e"
      },
      "outputs": [
        {
          "output_type": "stream",
          "name": "stdout",
          "text": [
            "Epoch 1/10, Weights: [-0.1 -0.1  0. ]\n",
            "Epoch 2/10, Weights: [ 0.  -0.1  0. ]\n",
            "Epoch 3/10, Weights: [ 0.  -0.1  0. ]\n",
            "Epoch 4/10, Weights: [ 0.  -0.1  0. ]\n",
            "Epoch 5/10, Weights: [ 0.  -0.1  0. ]\n",
            "Epoch 6/10, Weights: [ 0.  -0.1  0. ]\n",
            "Epoch 7/10, Weights: [ 0.  -0.1  0. ]\n",
            "Epoch 8/10, Weights: [ 0.  -0.1  0. ]\n",
            "Epoch 9/10, Weights: [ 0.  -0.1  0. ]\n",
            "Epoch 10/10, Weights: [ 0.  -0.1  0. ]\n"
          ]
        }
      ],
      "source": [
        "# 퍼셉트론 학습(XOR 데이터)\n",
        "perceptron = Perceptron(input_size=2, lr=0.1, epochs=10)\n",
        "perceptron.fit(XOR_X, XOR_y)"
      ]
    },
    {
      "cell_type": "code",
      "execution_count": 20,
      "metadata": {
        "colab": {
          "base_uri": "https://localhost:8080/"
        },
        "id": "kxWWvYml-bR-",
        "outputId": "63f4f22d-adde-49ef-87a9-536e536f8d5e"
      },
      "outputs": [
        {
          "output_type": "stream",
          "name": "stdout",
          "text": [
            "Testing XOR Problem:\n",
            "Input: [0 0], Predicted: 1, Target: 0\n",
            "Input: [0 1], Predicted: 1, Target: 1\n",
            "Input: [1 0], Predicted: 0, Target: 1\n",
            "Input: [1 1], Predicted: 0, Target: 0\n"
          ]
        }
      ],
      "source": [
        "# XOR 문제 테스트(문제o)\n",
        "print(\"Testing XOR Problem:\")\n",
        "for x, target in zip(XOR_X, XOR_y):\n",
        "    pred = perceptron.predict(x)\n",
        "    print(f\"Input: {x}, Predicted: {pred}, Target: {target}\")"
      ]
    }
  ],
  "metadata": {
    "kernelspec": {
      "display_name": "tf",
      "language": "python",
      "name": "python3"
    },
    "language_info": {
      "codemirror_mode": {
        "name": "ipython",
        "version": 3
      },
      "file_extension": ".py",
      "mimetype": "text/x-python",
      "name": "python",
      "nbconvert_exporter": "python",
      "pygments_lexer": "ipython3",
      "version": "3.9.0"
    },
    "colab": {
      "provenance": [],
      "include_colab_link": true
    }
  },
  "nbformat": 4,
  "nbformat_minor": 0
}