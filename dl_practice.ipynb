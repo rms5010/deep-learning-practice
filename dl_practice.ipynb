{
  "nbformat": 4,
  "nbformat_minor": 0,
  "metadata": {
    "colab": {
      "provenance": [],
      "authorship_tag": "ABX9TyPk8dbDRm6xQWK3M1nQs5Dq",
      "include_colab_link": true
    },
    "kernelspec": {
      "name": "python3",
      "display_name": "Python 3"
    },
    "language_info": {
      "name": "python"
    }
  },
  "cells": [
    {
      "cell_type": "markdown",
      "metadata": {
        "id": "view-in-github",
        "colab_type": "text"
      },
      "source": [
        "<a href=\"https://colab.research.google.com/github/rms5010/deep-learning-practice/blob/main/dl_practice.ipynb\" target=\"_parent\"><img src=\"https://colab.research.google.com/assets/colab-badge.svg\" alt=\"Open In Colab\"/></a>"
      ]
    },
    {
      "cell_type": "code",
      "source": [
        "from tensorflow.keras.models import Sequential\n",
        "from tensorflow.keras.layers import Dense, Input\n",
        "from keras.utils import plot_model\n",
        "import numpy as np"
      ],
      "metadata": {
        "id": "RPDivj-QL3Bj"
      },
      "execution_count": 2,
      "outputs": []
    },
    {
      "cell_type": "code",
      "source": [
        "!git clone https://github.com/taehojo/data.git\n",
        "\n",
        "Data_set = np.loadtxt(\"./data/ThoraricSurgery3.csv\", delimiter=\",\")\n",
        "X = Data_set[:,0:16]\n",
        "y = Data_set[:,16]"
      ],
      "metadata": {
        "id": "DxftJ2TWMmpr"
      },
      "execution_count": null,
      "outputs": []
    },
    {
      "cell_type": "code",
      "source": [
        "model = Sequential([\n",
        "  Input(shape=(16,))\n",
        "  ,Dense(30, activation='relu')\n",
        "  ,Dense(1, activation= 'sigmoid')\n",
        "])\n",
        "\n",
        "# model.add(Dense(30, input_shape=(16,), activation='relu'))\n",
        "# model.add(Dense(1, activation= 'sigmoid'))\n",
        "\n",
        "model.summary()\n",
        "plot_model(model,show_shapes=True)"
      ],
      "metadata": {
        "id": "BZr-9646MsrE"
      },
      "execution_count": null,
      "outputs": []
    },
    {
      "cell_type": "code",
      "source": [
        "model.compile(loss='binary_crossentropy', optimizer='adam', metrics=['accuracy'])\n",
        "history=model.fit(X, y, epochs=5, batch_size=16)"
      ],
      "metadata": {
        "id": "7CQxutdNM2Ra"
      },
      "execution_count": null,
      "outputs": []
    }
  ]
}